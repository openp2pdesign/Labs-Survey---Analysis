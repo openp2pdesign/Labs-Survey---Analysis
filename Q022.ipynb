{
 "metadata": {
  "name": "",
  "signature": "sha256:00fd66b1bba99b3b8668548a3c720ef20570e6f3aecf15dff7b248c28072b5e3"
 },
 "nbformat": 3,
 "nbformat_minor": 0,
 "worksheets": [
  {
   "cells": [
    {
     "cell_type": "heading",
     "level": 1,
     "metadata": {},
     "source": [
      "Q022 - E\u0300 presente una forma di assicurazione?"
     ]
    },
    {
     "cell_type": "code",
     "collapsed": false,
     "input": [
      "# -*- coding: UTF-8 -*-\n",
      "\n",
      "# Render our plots inline\n",
      "%matplotlib inline \n",
      "\n",
      "import pandas as pd\n",
      "import matplotlib\n",
      "import matplotlib.pyplot as plt\n",
      "import numpy as np\n",
      "import seaborn\n",
      "import shutil\n",
      "\n",
      "pd.set_option('display.mpl_style', 'default') # Make the graphs a bit prettier, overridden by seaborn\n",
      "pd.set_option('display.max_columns', None) # Display all the columns\n",
      "plt.rcParams['font.family'] = 'sans-serif' # Sans Serif fonts for all the graphs\n",
      "\n",
      "# Reference for color palettes: http://web.stanford.edu/~mwaskom/software/seaborn/tutorial/color_palettes.html\n",
      "\n",
      "# Change the font\n",
      "matplotlib.rcParams.update({'font.family': 'Source Sans Pro'})"
     ],
     "language": "python",
     "metadata": {},
     "outputs": [],
     "prompt_number": 1
    },
    {
     "cell_type": "code",
     "collapsed": false,
     "input": [
      "# Load csv file first\n",
      "data = pd.read_csv(\"data/lab-survey.csv\", encoding=\"utf-8\")"
     ],
     "language": "python",
     "metadata": {},
     "outputs": [],
     "prompt_number": 2
    },
    {
     "cell_type": "code",
     "collapsed": false,
     "input": [
      "# Check data\n",
      "#data[0:4] # Equals to data.head()"
     ],
     "language": "python",
     "metadata": {},
     "outputs": [],
     "prompt_number": 3
    },
    {
     "cell_type": "code",
     "collapsed": false,
     "input": [
      "%%capture output\n",
      "\n",
      "# Save the output as a variable that can be saved to a file\n",
      "# Get the distribution of way of living\n",
      "grado = data[\"D22\"].value_counts(dropna=False)\n",
      "print \"Data:\"\n",
      "print grado\n",
      "print \"\"\n",
      "print \"Data %:\"\n",
      "print data[\"D22\"].value_counts(normalize=True,dropna=False) * 100"
     ],
     "language": "python",
     "metadata": {},
     "outputs": [],
     "prompt_number": 4
    },
    {
     "cell_type": "code",
     "collapsed": false,
     "input": [
      "# Save+show the output to a text file\n",
      "%save Q022-PresenzaAssicurazione.py str(output)\n",
      "shutil.move(\"Q022-PresenzaAssicurazione.py\", \"text/Q022-PresenzaAssicurazione.txt\")"
     ],
     "language": "python",
     "metadata": {},
     "outputs": [
      {
       "output_type": "stream",
       "stream": "stdout",
       "text": [
        "The following commands were written to file `Q022-PresenzaAssicurazione.py`:\n",
        "Data:\n",
        "S\u00ec     45\n",
        "No     25\n",
        "NaN     0\n",
        "dtype: int64\n",
        "\n",
        "Data %:\n",
        "S\u00ec     64.285714\n",
        "No     35.714286\n",
        "NaN     0.000000\n",
        "dtype: float64\n",
        "\n"
       ]
      }
     ],
     "prompt_number": 5
    },
    {
     "cell_type": "code",
     "collapsed": false,
     "input": [
      "# Plot the data\n",
      "plt.figure(figsize=(8,6))\n",
      "plt.xlabel(u'Presenza di assicurazione', fontsize=16)\n",
      "plt.ylabel('Lab', fontsize=16)\n",
      "plt.title(u\"E\u0300 presente una forma di assicurazione?\", fontsize=18, y=1.02)\n",
      "my_colors = seaborn.color_palette(\"husl\", len(grado)) # Set color palette\n",
      "grado.plot(kind=\"bar\",color=my_colors)\n",
      "plt.savefig(\"svg/Q022-PresenzaAssicurazione.svg\")\n",
      "plt.savefig(\"png/Q022-PresenzaAssicurazione.png\")\n",
      "plt.savefig(\"pdf/Q022-PresenzaAssicurazione.pdf\")"
     ],
     "language": "python",
     "metadata": {},
     "outputs": [
      {
       "output_type": "display_data",
       "png": "[encoded data removed]",
       "text": [
        "<matplotlib.figure.Figure at 0x108095f50>"
       ]
      }
     ],
     "prompt_number": 6
    }
   ],
   "metadata": {}
  }
 ]
}