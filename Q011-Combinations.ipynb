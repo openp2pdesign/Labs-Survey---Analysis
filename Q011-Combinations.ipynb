{
 "metadata": {
  "name": "",
  "signature": "sha256:ef278de135929b9e6d734701990f807e6662b775e38c8487693a7dcc8dc0264a"
 },
 "nbformat": 3,
 "nbformat_minor": 0,
 "worksheets": [
  {
   "cells": [
    {
     "cell_type": "heading",
     "level": 1,
     "metadata": {},
     "source": [
      "Q011 - Quali altre attivita\u0300 condividono la sede del laboratorio?"
     ]
    },
    {
     "cell_type": "code",
     "collapsed": false,
     "input": [
      "# -*- coding: UTF-8 -*-\n",
      "\n",
      "# Render our plots inline\n",
      "%matplotlib inline \n",
      "\n",
      "import pandas as pd\n",
      "import matplotlib.pyplot as plt\n",
      "import numpy as np\n",
      "import seaborn\n",
      "\n",
      "pd.set_option('display.mpl_style', 'default') # Make the graphs a bit prettier, overridden by seaborn\n",
      "pd.set_option('display.max_columns', None) # Display all the columns\n",
      "plt.rcParams['font.family'] = 'sans-serif' # Sans Serif fonts for all the graphs\n",
      "\n",
      "# Reference for color palettes: http://web.stanford.edu/~mwaskom/software/seaborn/tutorial/color_palettes.html"
     ],
     "language": "python",
     "metadata": {},
     "outputs": [],
     "prompt_number": 1
    },
    {
     "cell_type": "code",
     "collapsed": false,
     "input": [
      "# Load csv file first\n",
      "data = pd.read_csv(\"data/lab-survey.csv\", encoding=\"utf-8\")"
     ],
     "language": "python",
     "metadata": {},
     "outputs": [],
     "prompt_number": 2
    },
    {
     "cell_type": "code",
     "collapsed": false,
     "input": [
      "# Check data\n",
      "#data[0:4] # Equals to data.head()"
     ],
     "language": "python",
     "metadata": {},
     "outputs": [],
     "prompt_number": 3
    },
    {
     "cell_type": "code",
     "collapsed": false,
     "input": [
      "1# Range: D11[SQ001] - D10[SQ005] - D11[other]\n",
      "\n",
      "activity_columns = [\"D11[SQ001]\",\"D11[SQ002]\",\"D11[SQ003]\",\"D11[SQ004]\",\"D11[SQ005]\"]\n",
      "activity_options = ['Coworking',\n",
      "               'Botteghe artigiane',\n",
      "               'Studi di progettazione',\n",
      "               'Studi di prototipazione',\n",
      "               'Servizi di produzione']\n",
      "activity = data[activity_columns]\n",
      "activity.replace(u'S\u00ec', 'Si', inplace=True) # Get rid of accented characters \n",
      "activity_other = data['D11[other]'].str.lower().value_counts()"
     ],
     "language": "python",
     "metadata": {},
     "outputs": [
      {
       "output_type": "stream",
       "stream": "stderr",
       "text": [
        "-c:10: SettingWithCopyWarning: \n",
        "A value is trying to be set on a copy of a slice from a DataFrame\n",
        "\n",
        "See the the caveats in the documentation: http://pandas.pydata.org/pandas-docs/stable/indexing.html#indexing-view-versus-copy\n"
       ]
      }
     ],
     "prompt_number": 4
    },
    {
     "cell_type": "code",
     "collapsed": false,
     "input": [
      "#places[0:4]"
     ],
     "language": "python",
     "metadata": {},
     "outputs": [],
     "prompt_number": 5
    },
    {
     "cell_type": "heading",
     "level": 2,
     "metadata": {},
     "source": [
      "Combinations..."
     ]
    },
    {
     "cell_type": "code",
     "collapsed": false,
     "input": [
      "# Create all the possible combinations from the main options\n",
      "# See http://stackoverflow.com/questions/17176887/python-get-all-permutation-of-a-list-w-o-repetitions\n",
      "\n",
      "import itertools \n",
      "\n",
      "all_combinations = {}\n",
      "all_combinations_columns = []\n",
      "\n",
      "for i in range(1, len(activity_columns)+1):\n",
      "    comb = list(itertools.combinations(activity_columns, i))\n",
      "    for k in comb:\n",
      "        # Each combination\n",
      "        all_combinations[k] = {}\n",
      "        all_combinations[k][\"col_list\"] = list(k)\n",
      "        # Build the string and boolean list of each combination\n",
      "        comb_list = []\n",
      "        comb_bool_list = []\n",
      "        # Put default False value\n",
      "        for l in activity_columns:\n",
      "            comb_bool_list.append(False)\n",
      "        for j in k:\n",
      "            pos = activity_columns.index(j) # Get position\n",
      "            comb_list.append(activity_options[pos])\n",
      "            comb_bool_list[pos] = True\n",
      "        all_combinations[k][\"list\"] = comb_list\n",
      "        all_combinations[k][\"bool_list\"] = comb_bool_list\n",
      "        all_combinations[k][\"str\"] = \", \".join(comb_list)"
     ],
     "language": "python",
     "metadata": {},
     "outputs": [],
     "prompt_number": 6
    },
    {
     "cell_type": "code",
     "collapsed": false,
     "input": [
      "# Check which combinations correspond each row\n",
      "str_values = []\n",
      "for i in activity.index:\n",
      "    current_bool_list = list(activity.ix[i].isin([\"Si\"]))\n",
      "    for i in all_combinations:\n",
      "        if current_bool_list == all_combinations[i][\"bool_list\"]:\n",
      "            str_values.append(all_combinations[i][\"str\"])"
     ],
     "language": "python",
     "metadata": {},
     "outputs": [],
     "prompt_number": 7
    },
    {
     "cell_type": "code",
     "collapsed": false,
     "input": [
      "# Add combination column\n",
      "activity[\"Combination\"] = pd.Series(str_values)"
     ],
     "language": "python",
     "metadata": {},
     "outputs": [
      {
       "output_type": "stream",
       "stream": "stderr",
       "text": [
        "-c:2: SettingWithCopyWarning: \n",
        "A value is trying to be set on a copy of a slice from a DataFrame.\n",
        "Try using .loc[row_indexer,col_indexer] = value instead\n",
        "\n",
        "See the the caveats in the documentation: http://pandas.pydata.org/pandas-docs/stable/indexing.html#indexing-view-versus-copy\n"
       ]
      }
     ],
     "prompt_number": 8
    },
    {
     "cell_type": "code",
     "collapsed": false,
     "input": [
      "# Gather data\n",
      "resulting_combinations = activity[\"Combination\"].value_counts()\n",
      "resulting_combinations_percentage = activity[\"Combination\"].value_counts(normalize=True)*100"
     ],
     "language": "python",
     "metadata": {},
     "outputs": [],
     "prompt_number": 9
    },
    {
     "cell_type": "code",
     "collapsed": false,
     "input": [
      "#\u00a0Plotting the first 10 values of the most popular combinations\n",
      "resulting_combinations[0:10].plot(kind='bar',figsize=(20,10),rot=90)\n",
      "plt.savefig(\"pdf/Q011-Combinazioni.pdf\")"
     ],
     "language": "python",
     "metadata": {},
     "outputs": [
      {
       "metadata": {},
       "output_type": "display_data",
       "png": "[encoded data removed]",
       "text": [
        "<matplotlib.figure.Figure at 0x10a9d6150>"
       ]
      }
     ],
     "prompt_number": 10
    },
    {
     "cell_type": "code",
     "collapsed": false,
     "input": [
      "#\u00a0Data of the combinations\n",
      "resulting_combinations"
     ],
     "language": "python",
     "metadata": {},
     "outputs": [
      {
       "metadata": {},
       "output_type": "pyout",
       "prompt_number": 11,
       "text": [
        "Coworking                                                       9\n",
        "Studi di prototipazione                                         5\n",
        "Studi di progettazione, Studi di prototipazione                 4\n",
        "Coworking, Botteghe artigiane, Studi di progettazione, Studi di prototipazione, Servizi di produzione    4\n",
        "Coworking, Studi di prototipazione                              3\n",
        "Botteghe artigiane                                              3\n",
        "Coworking, Studi di progettazione, Studi di prototipazione      3\n",
        "Coworking, Studi di prototipazione, Servizi di produzione       2\n",
        "Studi di progettazione                                          2\n",
        "Coworking, Studi di progettazione                               2\n",
        "Studi di progettazione, Studi di prototipazione, Servizi di produzione    2\n",
        "Coworking, Botteghe artigiane, Studi di progettazione, Studi di prototipazione    2\n",
        "Servizi di produzione                                           2\n",
        "Studi di progettazione, Servizi di produzione                   1\n",
        "Botteghe artigiane, Studi di prototipazione                     1\n",
        "Botteghe artigiane, Studi di progettazione, Studi di prototipazione, Servizi di produzione    1\n",
        "Botteghe artigiane, Studi di progettazione, Studi di prototipazione    1\n",
        "Botteghe artigiane, Servizi di produzione                       1\n",
        "Coworking, Botteghe artigiane, Studi di progettazione           1\n",
        "dtype: int64"
       ]
      }
     ],
     "prompt_number": 11
    },
    {
     "cell_type": "code",
     "collapsed": false,
     "input": [
      "# Data of the combinations: percentage\n",
      "resulting_combinations_percentage"
     ],
     "language": "python",
     "metadata": {},
     "outputs": [
      {
       "metadata": {},
       "output_type": "pyout",
       "prompt_number": 12,
       "text": [
        "Coworking                                                       12.857143\n",
        "Studi di prototipazione                                          7.142857\n",
        "Studi di progettazione, Studi di prototipazione                  5.714286\n",
        "Coworking, Botteghe artigiane, Studi di progettazione, Studi di prototipazione, Servizi di produzione     5.714286\n",
        "Coworking, Studi di prototipazione                               4.285714\n",
        "Botteghe artigiane                                               4.285714\n",
        "Coworking, Studi di progettazione, Studi di prototipazione       4.285714\n",
        "Coworking, Studi di prototipazione, Servizi di produzione        2.857143\n",
        "Studi di progettazione                                           2.857143\n",
        "Coworking, Studi di progettazione                                2.857143\n",
        "Studi di progettazione, Studi di prototipazione, Servizi di produzione     2.857143\n",
        "Coworking, Botteghe artigiane, Studi di progettazione, Studi di prototipazione     2.857143\n",
        "Servizi di produzione                                            2.857143\n",
        "Studi di progettazione, Servizi di produzione                    1.428571\n",
        "Botteghe artigiane, Studi di prototipazione                      1.428571\n",
        "Botteghe artigiane, Studi di progettazione, Studi di prototipazione, Servizi di produzione     1.428571\n",
        "Botteghe artigiane, Studi di progettazione, Studi di prototipazione     1.428571\n",
        "Botteghe artigiane, Servizi di produzione                        1.428571\n",
        "Coworking, Botteghe artigiane, Studi di progettazione            1.428571\n",
        "dtype: float64"
       ]
      }
     ],
     "prompt_number": 12
    },
    {
     "cell_type": "code",
     "collapsed": false,
     "input": [],
     "language": "python",
     "metadata": {},
     "outputs": []
    }
   ],
   "metadata": {}
  }
 ]
}