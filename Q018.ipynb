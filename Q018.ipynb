{
 "metadata": {
  "name": "",
  "signature": "sha256:2ea869b40638ff70f302d0f6f71cbb3cd0a3e4dbfeadb7ab936651eec143eecc"
 },
 "nbformat": 3,
 "nbformat_minor": 0,
 "worksheets": [
  {
   "cells": [
    {
     "cell_type": "heading",
     "level": 1,
     "metadata": {},
     "source": [
      "Q018 - A che livello di istituzione pubblica era stato organizzato il bando?"
     ]
    },
    {
     "cell_type": "code",
     "collapsed": false,
     "input": [
      "# -*- coding: UTF-8 -*-\n",
      "\n",
      "# Render our plots inline\n",
      "%matplotlib inline \n",
      "\n",
      "import pandas as pd\n",
      "import matplotlib\n",
      "import matplotlib.pyplot as plt\n",
      "import numpy as np\n",
      "import seaborn\n",
      "import shutil\n",
      "\n",
      "pd.set_option('display.mpl_style', 'default') # Make the graphs a bit prettier, overridden by seaborn\n",
      "pd.set_option('display.max_columns', None) # Display all the columns\n",
      "plt.rcParams['font.family'] = 'sans-serif' # Sans Serif fonts for all the graphs\n",
      "\n",
      "# Reference for color palettes: http://web.stanford.edu/~mwaskom/software/seaborn/tutorial/color_palettes.html\n",
      "\n",
      "# Change the font\n",
      "matplotlib.rcParams.update({'font.family': 'Source Sans Pro'})"
     ],
     "language": "python",
     "metadata": {},
     "outputs": [],
     "prompt_number": 1
    },
    {
     "cell_type": "code",
     "collapsed": false,
     "input": [
      "# Load csv file first\n",
      "data = pd.read_csv(\"data/lab-survey.csv\", encoding=\"utf-8\")"
     ],
     "language": "python",
     "metadata": {},
     "outputs": [],
     "prompt_number": 2
    },
    {
     "cell_type": "code",
     "collapsed": false,
     "input": [
      "# Check data\n",
      "#data[0:4] # Equals to data.head()"
     ],
     "language": "python",
     "metadata": {},
     "outputs": [],
     "prompt_number": 3
    },
    {
     "cell_type": "code",
     "collapsed": false,
     "input": [
      "data['D16[SQ011]'].replace(u'S\u00ec', 'Si', inplace=True) # Get rid of accented characters \n",
      "\n",
      "# Get rid of the people who did not answer to this section\n",
      "data = data.loc[data['D16[SQ011]'] == 'Si']"
     ],
     "language": "python",
     "metadata": {},
     "outputs": [],
     "prompt_number": 4
    },
    {
     "cell_type": "code",
     "collapsed": false,
     "input": [
      "%%capture output\n",
      "\n",
      "# Save the output as a variable that can be saved to a file\n",
      "# Get the distribution of way of living\n",
      "kind = data[\"D18\"].value_counts(dropna=False)\n",
      "print \"Data:\"\n",
      "print kind\n",
      "print \"\"\n",
      "print \"Data %:\"\n",
      "print data[\"D18\"].value_counts(normalize=True,dropna=False) * 100"
     ],
     "language": "python",
     "metadata": {},
     "outputs": [],
     "prompt_number": 5
    },
    {
     "cell_type": "code",
     "collapsed": false,
     "input": [
      "# Save+show the output to a text file\n",
      "%save Q018-LivelloBando.py str(output)\n",
      "shutil.move(\"Q018-LivelloBando.py\", \"text/Q018-LivelloBando.txt\")"
     ],
     "language": "python",
     "metadata": {},
     "outputs": [
      {
       "output_type": "stream",
       "stream": "stdout",
       "text": [
        "The following commands were written to file `Q018-LivelloBando.py`:\n",
        "Data:\n",
        "NaN          4\n",
        "Provincia    3\n",
        "Europa       2\n",
        "Regione      1\n",
        "dtype: int64\n",
        "\n",
        "Data %:\n",
        "NaN          40\n",
        "Provincia    30\n",
        "Europa       20\n",
        "Regione      10\n",
        "dtype: float64\n",
        "\n"
       ]
      }
     ],
     "prompt_number": 6
    },
    {
     "cell_type": "code",
     "collapsed": false,
     "input": [
      "# Swap nan for a more understandable word\n",
      "old_dict = kind.to_dict()\n",
      "new_dict = {}\n",
      "for i in old_dict:\n",
      "    if type(i) is float and np.isnan(i):\n",
      "        new_dict[\"Nessuna risposta\"] = old_dict[i]\n",
      "    else:\n",
      "        new_dict[i.capitalize()] = old_dict[i]\n",
      "\n",
      "kindu = pd.Series(new_dict)\n",
      "kind = kindu.order()"
     ],
     "language": "python",
     "metadata": {},
     "outputs": [],
     "prompt_number": 7
    },
    {
     "cell_type": "code",
     "collapsed": false,
     "input": [
      "# Plot the data\n",
      "plt.figure(figsize=(8,6))\n",
      "plt.xlabel(u'Bando pubblico', fontsize=16)\n",
      "plt.ylabel('Lab', fontsize=16)\n",
      "plt.title(u\"A che livello di istituzione pubblica era stato organizzato il bando?\", fontsize=18, y=1.02)\n",
      "my_colors = seaborn.color_palette(\"husl\", len(kind)) # Set color palette\n",
      "kind.plot(kind=\"bar\",color=my_colors)\n",
      "plt.savefig(u\"svg/Q018-LivelloBando.svg\")\n",
      "plt.savefig(u\"png/Q018-LivelloBando.png\")\n",
      "plt.savefig(u\"pdf/Q018-LivelloBando.pdf\")"
     ],
     "language": "python",
     "metadata": {},
     "outputs": [
      {
       "metadata": {},
       "output_type": "display_data",
       "png": "[encoded data removed]",
       "text": [
        "<matplotlib.figure.Figure at 0x1128d2c90>"
       ]
      }
     ],
     "prompt_number": 8
    }
   ],
   "metadata": {}
  }
 ]
}