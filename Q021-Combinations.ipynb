{
 "metadata": {
  "name": "",
  "signature": "sha256:080301f336ca43c4fb7fcee5de16c3959b59b0ed2ab597984a8e11751c0978ae"
 },
 "nbformat": 3,
 "nbformat_minor": 0,
 "worksheets": [
  {
   "cells": [
    {
     "cell_type": "heading",
     "level": 1,
     "metadata": {},
     "source": [
      "Q021 - Qual e\u0300 la forma giuridica del laboratorio?"
     ]
    },
    {
     "cell_type": "code",
     "collapsed": false,
     "input": [
      "# -*- coding: UTF-8 -*-\n",
      "\n",
      "# Render our plots inline\n",
      "%matplotlib inline \n",
      "\n",
      "import pandas as pd\n",
      "import matplotlib.pyplot as plt\n",
      "import numpy as np\n",
      "import seaborn\n",
      "\n",
      "pd.set_option('display.mpl_style', 'default') # Make the graphs a bit prettier, overridden by seaborn\n",
      "pd.set_option('display.max_columns', None) # Display all the columns\n",
      "plt.rcParams['font.family'] = 'sans-serif' # Sans Serif fonts for all the graphs\n",
      "\n",
      "# Reference for color palettes: http://web.stanford.edu/~mwaskom/software/seaborn/tutorial/color_palettes.html"
     ],
     "language": "python",
     "metadata": {},
     "outputs": [],
     "prompt_number": 1
    },
    {
     "cell_type": "code",
     "collapsed": false,
     "input": [
      "# Load csv file first\n",
      "data = pd.read_csv(\"data/lab-survey.csv\", encoding=\"utf-8\")"
     ],
     "language": "python",
     "metadata": {},
     "outputs": [],
     "prompt_number": 2
    },
    {
     "cell_type": "code",
     "collapsed": false,
     "input": [
      "# Check data\n",
      "#data[0:4] # Equals to data.head()"
     ],
     "language": "python",
     "metadata": {},
     "outputs": [],
     "prompt_number": 3
    },
    {
     "cell_type": "code",
     "collapsed": false,
     "input": [
      "# Range: D21[SQ001] - D21[SQ008] - D21[other]\n",
      "\n",
      "lab_columns = ['D21[SQ001]','D21[SQ002]','D21[SQ003]','D21[SQ004]','D21[SQ005]','D21[SQ006]','D21[SQ007]','D21[SQ008]']\n",
      "lab_options = ['Nessuna formalizzazione',\n",
      "               'Associazione di fatto',\n",
      "               'Associazione registrata',\n",
      "               'Fondazione',\n",
      "               'Srl',\n",
      "               'Cooperativa',\n",
      "               u'Unita\u0300 o dipartimento di ente',\n",
      "               u'Unita\u0300 o dipartimento di impresa']\n",
      "lab = data[lab_columns]\n",
      "lab.replace(u'S\u00ec', 'Si', inplace=True) # Get rid of accented characters \n",
      "lab_other = data['D21[other]'].str.lower().value_counts()"
     ],
     "language": "python",
     "metadata": {},
     "outputs": [
      {
       "output_type": "stream",
       "stream": "stderr",
       "text": [
        "-c:13: SettingWithCopyWarning: \n",
        "A value is trying to be set on a copy of a slice from a DataFrame\n",
        "\n",
        "See the the caveats in the documentation: http://pandas.pydata.org/pandas-docs/stable/indexing.html#indexing-view-versus-copy\n"
       ]
      }
     ],
     "prompt_number": 4
    },
    {
     "cell_type": "code",
     "collapsed": false,
     "input": [
      "#places[0:4]"
     ],
     "language": "python",
     "metadata": {},
     "outputs": [],
     "prompt_number": 5
    },
    {
     "cell_type": "heading",
     "level": 2,
     "metadata": {},
     "source": [
      "Combinations..."
     ]
    },
    {
     "cell_type": "code",
     "collapsed": false,
     "input": [
      "# Create all the possible combinations from the main options\n",
      "# See http://stackoverflow.com/questions/17176887/python-get-all-permutation-of-a-list-w-o-repetitions\n",
      "\n",
      "import itertools \n",
      "\n",
      "all_combinations = {}\n",
      "all_combinations_columns = []\n",
      "\n",
      "for i in range(1, len(lab_columns)+1):\n",
      "    comb = list(itertools.combinations(lab_columns, i))\n",
      "    for k in comb:\n",
      "        # Each combination\n",
      "        all_combinations[k] = {}\n",
      "        all_combinations[k][\"col_list\"] = list(k)\n",
      "        # Build the string and boolean list of each combination\n",
      "        comb_list = []\n",
      "        comb_bool_list = []\n",
      "        # Put default False value\n",
      "        for l in lab_columns:\n",
      "            comb_bool_list.append(False)\n",
      "        for j in k:\n",
      "            pos = lab_columns.index(j) # Get position\n",
      "            comb_list.append(lab_options[pos])\n",
      "            comb_bool_list[pos] = True\n",
      "        all_combinations[k][\"list\"] = comb_list\n",
      "        all_combinations[k][\"bool_list\"] = comb_bool_list\n",
      "        all_combinations[k][\"str\"] = \", \".join(comb_list)"
     ],
     "language": "python",
     "metadata": {},
     "outputs": [],
     "prompt_number": 6
    },
    {
     "cell_type": "code",
     "collapsed": false,
     "input": [
      "# Check which combinations correspond each row\n",
      "str_values = []\n",
      "for i in lab.index:\n",
      "    current_bool_list = list(lab.ix[i].isin([\"Si\"]))\n",
      "    for i in all_combinations:\n",
      "        if current_bool_list == all_combinations[i][\"bool_list\"]:\n",
      "            str_values.append(all_combinations[i][\"str\"])"
     ],
     "language": "python",
     "metadata": {},
     "outputs": [],
     "prompt_number": 7
    },
    {
     "cell_type": "code",
     "collapsed": false,
     "input": [
      "# Add combination column\n",
      "lab[\"Combination\"] = pd.Series(str_values)"
     ],
     "language": "python",
     "metadata": {},
     "outputs": [
      {
       "output_type": "stream",
       "stream": "stderr",
       "text": [
        "-c:2: SettingWithCopyWarning: \n",
        "A value is trying to be set on a copy of a slice from a DataFrame.\n",
        "Try using .loc[row_indexer,col_indexer] = value instead\n",
        "\n",
        "See the the caveats in the documentation: http://pandas.pydata.org/pandas-docs/stable/indexing.html#indexing-view-versus-copy\n"
       ]
      }
     ],
     "prompt_number": 8
    },
    {
     "cell_type": "code",
     "collapsed": false,
     "input": [
      "# Gather data\n",
      "resulting_combinations = lab[\"Combination\"].value_counts()\n",
      "resulting_combinations_percentage = lab[\"Combination\"].value_counts(normalize=True)*100"
     ],
     "language": "python",
     "metadata": {},
     "outputs": [],
     "prompt_number": 9
    },
    {
     "cell_type": "code",
     "collapsed": false,
     "input": [
      "#\u00a0Plotting the first 10 values of the most popular combinations\n",
      "resulting_combinations[0:10].plot(kind='bar',figsize=(20,10),rot=90)\n",
      "plt.savefig(\"pdf/Q021-Combinazioni.pdf\")"
     ],
     "language": "python",
     "metadata": {},
     "outputs": [
      {
       "metadata": {},
       "output_type": "display_data",
       "png": "[encoded data removed]",
       "text": [
        "<matplotlib.figure.Figure at 0x113588150>"
       ]
      }
     ],
     "prompt_number": 10
    },
    {
     "cell_type": "code",
     "collapsed": false,
     "input": [
      "#\u00a0Data of the combinations\n",
      "resulting_combinations"
     ],
     "language": "python",
     "metadata": {},
     "outputs": [
      {
       "metadata": {},
       "output_type": "pyout",
       "prompt_number": 11,
       "text": [
        "Associazione registrata                                   20\n",
        "Nessuna formalizzazione                                   14\n",
        "Associazione di fatto                                      6\n",
        "Unita\u0300 o dipartimento di ente                              5\n",
        "Srl                                                        5\n",
        "Associazione registrata, Srl                               3\n",
        "Nessuna formalizzazione, Associazione di fatto             1\n",
        "Cooperativa                                                1\n",
        "Associazione registrata, Cooperativa                       1\n",
        "Associazione registrata, Unita\u0300 o dipartimento di ente     1\n",
        "Unita\u0300 o dipartimento di impresa                           1\n",
        "Fondazione                                                 1\n",
        "Nessuna formalizzazione, Associazione registrata           1\n",
        "Associazione di fatto, Srl                                 1\n",
        "dtype: int64"
       ]
      }
     ],
     "prompt_number": 11
    },
    {
     "cell_type": "code",
     "collapsed": false,
     "input": [
      "# Data of the combinations: percentage\n",
      "resulting_combinations_percentage"
     ],
     "language": "python",
     "metadata": {},
     "outputs": [
      {
       "metadata": {},
       "output_type": "pyout",
       "prompt_number": 12,
       "text": [
        "Associazione registrata                                   28.571429\n",
        "Nessuna formalizzazione                                   20.000000\n",
        "Associazione di fatto                                      8.571429\n",
        "Unita\u0300 o dipartimento di ente                              7.142857\n",
        "Srl                                                        7.142857\n",
        "Associazione registrata, Srl                               4.285714\n",
        "Nessuna formalizzazione, Associazione di fatto             1.428571\n",
        "Cooperativa                                                1.428571\n",
        "Associazione registrata, Cooperativa                       1.428571\n",
        "Associazione registrata, Unita\u0300 o dipartimento di ente     1.428571\n",
        "Unita\u0300 o dipartimento di impresa                           1.428571\n",
        "Fondazione                                                 1.428571\n",
        "Nessuna formalizzazione, Associazione registrata           1.428571\n",
        "Associazione di fatto, Srl                                 1.428571\n",
        "dtype: float64"
       ]
      }
     ],
     "prompt_number": 12
    },
    {
     "cell_type": "code",
     "collapsed": false,
     "input": [],
     "language": "python",
     "metadata": {},
     "outputs": []
    }
   ],
   "metadata": {}
  }
 ]
}