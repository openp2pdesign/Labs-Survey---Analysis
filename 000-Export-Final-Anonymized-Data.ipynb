{
 "metadata": {
  "name": "",
  "signature": "sha256:fb4104ea6a0454efe1bf4586caac9700677235c82fa43f2558ac6ae5f8fb2a44"
 },
 "nbformat": 3,
 "nbformat_minor": 0,
 "worksheets": [
  {
   "cells": [
    {
     "cell_type": "heading",
     "level": 1,
     "metadata": {},
     "source": [
      "000 - Export final anonymized data"
     ]
    },
    {
     "cell_type": "code",
     "collapsed": false,
     "input": [
      "# -*- coding: UTF-8 -*-\n",
      "\n",
      "# Render our plots inline\n",
      "%matplotlib inline \n",
      "\n",
      "import pandas as pd\n",
      "import matplotlib.pyplot as plt\n",
      "import numpy as np\n",
      "import seaborn\n",
      "\n",
      "pd.set_option('display.mpl_style', 'default') # Make the graphs a bit prettier, overridden by seaborn\n",
      "pd.set_option('display.max_columns', None) # Display all the columns\n",
      "plt.rcParams['font.family'] = 'sans-serif' # Sans Serif fonts for all the graphs\n",
      "\n",
      "# Reference for color palettes: http://web.stanford.edu/~mwaskom/software/seaborn/tutorial/color_palettes.html\n",
      "\n",
      "# Change the font\n",
      "matplotlib.rcParams.update({'font.family': 'Source Sans Pro'})"
     ],
     "language": "python",
     "metadata": {},
     "outputs": [],
     "prompt_number": 1
    },
    {
     "cell_type": "code",
     "collapsed": false,
     "input": [
      "# Load csv file first\n",
      "data = pd.read_csv(\"data/lab-survey.csv\", encoding=\"utf-8\")"
     ],
     "language": "python",
     "metadata": {},
     "outputs": [],
     "prompt_number": 2
    },
    {
     "cell_type": "code",
     "collapsed": false,
     "input": [
      "# Check data\n",
      "#data[0:4] # Equals to data.head()"
     ],
     "language": "python",
     "metadata": {},
     "outputs": [],
     "prompt_number": 3
    },
    {
     "cell_type": "code",
     "collapsed": false,
     "input": [
      "#\u00a0Data to be exported with the name:\n",
      "\n",
      "data_full_codes = [ \"D1\", \n",
      "                   \"D4[SQ001]\",\"D4[SQ002]\",\n",
      "                   \"D8\", \"D9\", \"D12\", \"D13\", \"D15\", \"D17\", \"D18\", \"D19\"]\n",
      "\n",
      "#\u00a0Data to be exported in an anonymized version:\n",
      "\n",
      "data_anonymized_codes = [\"D2[SQ001]\",\"D2[SQ002]\",\"D2[SQ003]\",\"D2[SQ004]\",\"D2[SQ005]\",\"D2[SQ006]\",\"D2[SQ007]\",\"D2[SQ008]\",\n",
      "                         \"D2[SQ009]\",\"D2[SQ010]\",\"D2[SQ011]\",\"D2[other]\",\n",
      "                         \"D3\",\"D3[other]\", \n",
      "                         \"D5\", \n",
      "                         \"D6\",\"D6[other]\",\n",
      "                         \"D7\",\"D7[other]\",\n",
      "                         \"D10[SQ001]\",\"D10[SQ002]\",\"D10[SQ003]\",\"D10[SQ004]\",\"D10[SQ005]\",\"D10[SQ006]\",\"D10[SQ007]\",\n",
      "                         \"D10[SQ008]\",\"D10[other]\",\n",
      "                         \"D11[SQ001]\",\"D11[SQ002]\",\"D11[SQ003]\",\"D11[SQ004]\",\"D11[SQ005]\",\"D11[other]\",\n",
      "                         \"D14[SQ001]\",\"D14[SQ002]\",\"D14[SQ004]\",\"D14[SQ010]\",\"D14[SQ011]\",\"D14[SQ003]\",\"D14[SQ005]\",\n",
      "                         \"D14[SQ006]\",\"D14[SQ007]\",\"D14[SQ008]\",\"D14[SQ009]\",\"D14[SQ012]\",\"D14[other]\",\n",
      "                         \"D16[SQ001]\",\"D16[SQ002]\",\"D16[SQ004]\",\"D16[SQ012]\",\"D16[SQ013]\",\"D16[SQ003]\",\"D16[SQ005]\",\n",
      "                         \"D16[SQ006]\",\"D16[SQ007]\",\"D16[SQ008]\",\"D16[SQ009]\",\"D16[SQ010]\",\"D16[SQ011]\",\"D16[other]\",\n",
      "                         \"D20[SQ001]\", \n",
      "                         \"D21[SQ001]\",\"D21[SQ002]\",\"D21[SQ003]\",\"D21[SQ004]\",\"D21[SQ005]\",\"D21[SQ006]\",\"D21[SQ007]\",\n",
      "                         \"D21[SQ008]\",\"D21[other]\",\n",
      "                         \"D22\", \"D23\", \"D24\", \"D25\",\n",
      "                         \"D26[SQ001]\",\"D26[SQ002]\",\"D26[SQ003]\",\"D26[SQ004]\",\"D26[SQ005]\",\"D26[SQ006]\",\"D26[SQ007]\",\n",
      "                         \"D26[SQ008]\",\"D26[other]\",\n",
      "                         \"D27[SQ001_SQ001]\",\"D27[SQ001_SQ002]\",\"D27[SQ001_SQ003]\",\"D27[SQ001_SQ004]\",\"D27[SQ001_SQ005]\",\n",
      "                         \"D27[SQ001_SQ006]\",\"D27[SQ001_SQ007]\",\"D27[SQ002_SQ001]\",\"D27[SQ002_SQ002]\",\"D27[SQ002_SQ003]\",\n",
      "                         \"D27[SQ002_SQ004]\",\"D27[SQ002_SQ005]\",\"D27[SQ002_SQ006]\",\"D27[SQ002_SQ007]\",\n",
      "                         \"D28[SQ001]\",\"D28[SQ002]\",\"D28[SQ003]\",\"D28[SQ004]\",\"D28[SQ005]\",\"D28[SQ006]\",\"D28[SQ007]\",\n",
      "                         \"D28[SQ008]\",\"D28[SQ009]\",\"D28[SQ010]\",\"D28[SQ011]\",\"D28[SQ012]\",\"D28[SQ013]\",\"D28[SQ016]\",\n",
      "                         \"D28[SQ014]\",\"D28[SQ015]\",\n",
      "                         \"D29[SQ001_SQ002]\",\"D29[SQ001_SQ001]\",\"D29[SQ002_SQ002]\",\"D29[SQ002_SQ001]\",\"D29[SQ003_SQ002]\",\n",
      "                         \"D29[SQ003_SQ001]\",\"D29[SQ004_SQ002]\",\"D29[SQ004_SQ001]\",\"D29[SQ005_SQ002]\",\"D29[SQ005_SQ001]\",\n",
      "                         \"D29[SQ006_SQ002]\",\"D29[SQ006_SQ001]\",\"D29[SQ007_SQ002]\",\"D29[SQ007_SQ001]\",\"D29[SQ008_SQ002]\",\n",
      "                         \"D29[SQ008_SQ001]\",\"D29[SQ009_SQ002]\",\"D29[SQ009_SQ001]\",\"D29[SQ010_SQ002]\",\"D29[SQ010_SQ001]\",\n",
      "                         \"D30[SQ002]\",\"D30[SQ003]\",\"D30[SQ004]\",\"D30[SQ005]\",\"D30[SQ006]\",\"D30[SQ007]\",\"D30[SQ008]\",\n",
      "                         \"D30[SQ009]\",\"D30[SQ010]\",\"D30[SQ011]\",\"D30[SQ012]\",\"D30[SQ013]\",\"D30[SQ014]\",\n",
      "                         \"D31[SQ001_SQ001]\",\"D31[SQ001_SQ002]\",\"D31[SQ002_SQ001]\",\"D31[SQ002_SQ002]\",\"D31[SQ003_SQ001]\",\n",
      "                         \"D31[SQ003_SQ002]\",\"D31[SQ004_SQ001]\",\"D31[SQ004_SQ002]\",\"D31[SQ005_SQ001]\",\"D31[SQ005_SQ002]\",\n",
      "                         \"D31[SQ006_SQ001]\",\"D31[SQ006_SQ002]\",\"D31[SQ007_SQ001]\",\"D31[SQ007_SQ002]\",\"D31[SQ008_SQ001]\",\n",
      "                         \"D31[SQ008_SQ002]\",\"D31[SQ009_SQ001]\",\"D31[SQ009_SQ002]\",\"D31[SQ010_SQ001]\",\"D31[SQ010_SQ002]\",\n",
      "                         \"D32[SQ001]\",\"D32[SQ002]\",\"D32[SQ003]\",\"D32[SQ004]\",\"D32[SQ005]\",\n",
      "                         \"D33\", \n",
      "                         \"D34[SQ001]\",\"D34[SQ002]\",\n",
      "                         \"D35\", \"D36\", \"D37\", \n",
      "                         \"D38[SQ001]\",\"D38[SQ002]\",\"D38[SQ003]\",\"D38[SQ004]\",\"D38[SQ005]\",\"D38[SQ006]\",\"D38[SQ007]\",\n",
      "                         \"D39[SQ001]\",\"D39[SQ002]\",\"D39[SQ003]\",\"D39[SQ004]\",\n",
      "                         \"D40[SQ001]\",\"D40[SQ002]\",\"D40[SQ003]\",\"D40[SQ004]\",\"D40[SQ005]\",\"D40[SQ006]\",\"D40[SQ007]\",\n",
      "                         \"D41[SQ001]\",\"D41[SQ002]\",\"D41[SQ003]\",\"D41[SQ004]\",\"D41[SQ005]\",\"D41[SQ006]\",\"D41[SQ007]\",\n",
      "                         \"D41[SQ008]\",\"D41[SQ009]\",\"D41[SQ010]\",\n",
      "                         \"D42\"]\n",
      "\n",
      "#\u00a0Load data from these selections\n",
      "\n",
      "data_full = data[data_full_codes]\n",
      "data_anonymized = data[data_anonymized_codes]"
     ],
     "language": "python",
     "metadata": {},
     "outputs": [],
     "prompt_number": 4
    },
    {
     "cell_type": "code",
     "collapsed": false,
     "input": [
      "#\u00a0Debug\n",
      "#data_full"
     ],
     "language": "python",
     "metadata": {},
     "outputs": [],
     "prompt_number": 5
    },
    {
     "cell_type": "code",
     "collapsed": false,
     "input": [
      "#\u00a0Debug\n",
      "#data_anonymized"
     ],
     "language": "python",
     "metadata": {},
     "outputs": [],
     "prompt_number": 6
    },
    {
     "cell_type": "code",
     "collapsed": false,
     "input": [
      "#\u00a0Export datasets\n",
      "data_full.to_csv('data/italian-labs_final_data_with_names.csv', encoding='utf-8')\n",
      "data_anonymized.to_csv('data/italian-labs_final_data_anonymized.csv', encoding='utf-8')"
     ],
     "language": "python",
     "metadata": {},
     "outputs": [],
     "prompt_number": 7
    }
   ],
   "metadata": {}
  }
 ]
}