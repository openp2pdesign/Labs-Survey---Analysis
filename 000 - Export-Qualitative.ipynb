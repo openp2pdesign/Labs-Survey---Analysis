{
 "metadata": {
  "name": "",
  "signature": "sha256:f6767014b806a1406590fc84869e2407424cd82539f161efe66b602c5da15ea0"
 },
 "nbformat": 3,
 "nbformat_minor": 0,
 "worksheets": [
  {
   "cells": [
    {
     "cell_type": "heading",
     "level": 1,
     "metadata": {},
     "source": [
      "000 - Export qualitative questions for manual analysis"
     ]
    },
    {
     "cell_type": "code",
     "collapsed": false,
     "input": [
      "# -*- coding: UTF-8 -*-\n",
      "\n",
      "# Render our plots inline\n",
      "%matplotlib inline \n",
      "\n",
      "import pandas as pd\n",
      "import matplotlib.pyplot as plt\n",
      "import numpy as np\n",
      "import seaborn\n",
      "\n",
      "pd.set_option('display.mpl_style', 'default') # Make the graphs a bit prettier, overridden by seaborn\n",
      "pd.set_option('display.max_columns', None) # Display all the columns\n",
      "plt.rcParams['font.family'] = 'sans-serif' # Sans Serif fonts for all the graphs\n",
      "\n",
      "# Reference for color palettes: http://web.stanford.edu/~mwaskom/software/seaborn/tutorial/color_palettes.html\n",
      "\n",
      "# Change the font\n",
      "matplotlib.rcParams.update({'font.family': 'Source Sans Pro'})"
     ],
     "language": "python",
     "metadata": {},
     "outputs": [],
     "prompt_number": 1
    },
    {
     "cell_type": "code",
     "collapsed": false,
     "input": [
      "# Load csv file first\n",
      "data = pd.read_csv(\"data/lab-survey.csv\", encoding=\"utf-8\")"
     ],
     "language": "python",
     "metadata": {},
     "outputs": [],
     "prompt_number": 2
    },
    {
     "cell_type": "code",
     "collapsed": false,
     "input": [
      "# Check data\n",
      "#data[0:4] # Equals to data.head()"
     ],
     "language": "python",
     "metadata": {},
     "outputs": [],
     "prompt_number": 3
    },
    {
     "cell_type": "code",
     "collapsed": false,
     "input": [
      "#\u00a0Data to be exported:\n",
      "#\u00a0Q008 : Chi vi ha offerto l\u2019affitto agevolato?\n",
      "# Q009 : Chi vi ha offerto lo spazio gratuitamente?\n",
      "#\u00a0Q015 : Quali sono state le organizzazioni che hanno sviluppato l\u2019iniziativa?\n",
      "# Q017 : Quali sono state le organizzazioni che hanno fornito le risorse per partire?\n",
      "# Q019 : Qual e\u0300 stato il bando che vi ha fornito le risorse per partire?\n",
      "#\u00a0Q023 : Quali sono le forme di assicurazione adottate? \n",
      "#\u00a0Q025 : Quali normative di sicurezza sul lavoro e/o ambientali segue il laboratorio?\n",
      "#\u00a0Q029 : Siete in possesso di altri macchinari di fabbricazione digitale nel laboratorio?\n",
      "#\u00a0Q031 : Di quali altre dotazioni siete in possesso nel laboratorio?\n",
      "#\u00a0Q042 : Qual e\u0300 il modello di business del laboratorio?\n",
      "\n",
      "Q008 = data[\"D8\"]\n",
      "Q009 = data[\"D9\"]\n",
      "Q015 = data[\"D15\"]\n",
      "Q017 = data[\"D17\"]\n",
      "Q019 = data[\"D19\"]\n",
      "Q023 = data[\"D23\"]\n",
      "Q025 = data[\"D25\"]\n",
      "\n",
      "Q029 = data[[\"D29[SQ001_SQ002]\",\"D29[SQ001_SQ001]\",\"D29[SQ002_SQ002]\",\"D29[SQ002_SQ001]\",\"D29[SQ003_SQ002]\",\n",
      "\"D29[SQ003_SQ001]\",\"D29[SQ004_SQ002]\",\"D29[SQ004_SQ001]\",\"D29[SQ005_SQ002]\",\"D29[SQ005_SQ001]\",\n",
      "\"D29[SQ006_SQ002]\",\"D29[SQ006_SQ001]\",\"D29[SQ007_SQ002]\",\"D29[SQ007_SQ001]\",\"D29[SQ008_SQ002]\",\n",
      "\"D29[SQ008_SQ001]\",\"D29[SQ009_SQ002]\",\"D29[SQ009_SQ001]\",\"D29[SQ010_SQ002]\",\"D29[SQ010_SQ001]\"]]\n",
      "\n",
      "Q031 = data[[\"D31[SQ001_SQ001]\",\"D31[SQ001_SQ002]\",\"D31[SQ002_SQ001]\",\"D31[SQ002_SQ002]\",\"D31[SQ003_SQ001]\",\n",
      "\"D31[SQ003_SQ002]\",\"D31[SQ004_SQ001]\",\"D31[SQ004_SQ002]\",\"D31[SQ005_SQ001]\",\"D31[SQ005_SQ002]\",\n",
      "\"D31[SQ006_SQ001]\",\"D31[SQ006_SQ002]\",\"D31[SQ007_SQ001]\",\"D31[SQ007_SQ002]\",\"D31[SQ008_SQ001]\",\n",
      "\"D31[SQ008_SQ002]\",\"D31[SQ009_SQ001]\",\"D31[SQ009_SQ002]\",\"D31[SQ010_SQ001]\",\"D31[SQ010_SQ002]\"]]\n",
      "\n",
      "Q042 = data[\"D42\"]\n"
     ],
     "language": "python",
     "metadata": {},
     "outputs": [],
     "prompt_number": 4
    },
    {
     "cell_type": "code",
     "collapsed": false,
     "input": [
      "#\u00a0Export qualitative questions to single csv\n",
      "Q008.to_csv('data/qualitative-Q008.csv', encoding='utf-8')\n",
      "Q009.to_csv('data/qualitative-Q009.csv', encoding='utf-8')\n",
      "Q015.to_csv('data/qualitative-Q015.csv', encoding='utf-8')\n",
      "Q017.to_csv('data/qualitative-Q017.csv', encoding='utf-8')\n",
      "Q019.to_csv('data/qualitative-Q019.csv', encoding='utf-8')\n",
      "Q023.to_csv('data/qualitative-Q023.csv', encoding='utf-8')\n",
      "Q025.to_csv('data/qualitative-Q025.csv', encoding='utf-8')\n",
      "Q029.to_csv('data/qualitative-Q029.csv', encoding='utf-8')\n",
      "Q031.to_csv('data/qualitative-Q031.csv', encoding='utf-8')\n",
      "Q042.to_csv('data/qualitative-Q042.csv', encoding='utf-8')"
     ],
     "language": "python",
     "metadata": {},
     "outputs": [],
     "prompt_number": 5
    }
   ],
   "metadata": {}
  }
 ]
}